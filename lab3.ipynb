{
 "cells": [
  {
   "cell_type": "markdown",
   "metadata": {},
   "source": [
    "# Lab 3 - Visión por computadora"
   ]
  },
  {
   "cell_type": "markdown",
   "metadata": {},
   "source": [
    "### 1. Investigar sobre los filtros anisotropicos, en que se diferencian de un filtro como el gaussian blur, y como funcionan. Principalmente usaremos el filtro anisotropico de Perona-Malik."
   ]
  },
  {
   "cell_type": "markdown",
   "metadata": {},
   "source": [
    "Filtros asintropicos: Sirven para poder enfocar bien los pixeles de una imágen es decir que funcionan al contrario que los filtros gaussianos los cuales desenfocan la imágen y suavizan la transición de pixeles. El filtro perona-malik ajusta la cantidad de distorsión en función de la dirección de la imágen más específicamente de los gradientes. "
   ]
  },
  {
   "cell_type": "markdown",
   "metadata": {},
   "source": [
    "### 2. Descargar la base de datos BSD500, de Berkeley, la cual originalmente es una base de datos para evaluar algoritmos de segmentacion. En esta ocasion unicamente usaremos la base para generar im´agenes a las que aplicaremos filtros anisotropicos.\n"
   ]
  },
  {
   "cell_type": "code",
   "execution_count": 1,
   "metadata": {},
   "outputs": [],
   "source": [
    "import os\n",
    "import cv2\n",
    "from PIL import Image\n",
    "from Anisotropic import *"
   ]
  },
  {
   "cell_type": "code",
   "execution_count": 2,
   "metadata": {},
   "outputs": [],
   "source": [
    "def convert_images_in_folder(input_folder, output_folder):\n",
    "    # Create the output folder if it doesn't exist\n",
    "    if not os.path.exists(output_folder):\n",
    "        os.makedirs(output_folder)\n",
    "    \n",
    "    # Iterate through all files in the input folder\n",
    "    for filename in os.listdir(input_folder):\n",
    "        # Check if the file is an image\n",
    "        if filename.endswith(\".jpg\") or filename.endswith(\".png\"):\n",
    "            # Open the image file\n",
    "            img_path = os.path.join(input_folder, filename)\n",
    "            img = Image.open(img_path)\n",
    "            \n",
    "            # Convert the image to grayscale\n",
    "            bw_img = np.array(img.convert('L'))\n",
    "            \n",
    "            filtered_image = anisodiff(bw_img)\n",
    "            # Save the black and white image to the output folder\n",
    "            output_path = os.path.join(output_folder, filename)\n",
    "            Image.fromarray(filtered_image.astype(np.uint8)).save(output_path)\n"
   ]
  },
  {
   "cell_type": "code",
   "execution_count": 3,
   "metadata": {},
   "outputs": [],
   "source": [
    "input_folder_path = \"images\"\n",
    "output_folder_path = \"bw-images\"\n",
    "convert_images_in_folder(input_folder_path, output_folder_path)"
   ]
  },
  {
   "cell_type": "markdown",
   "metadata": {},
   "source": []
  }
 ],
 "metadata": {
  "kernelspec": {
   "display_name": "Python 3",
   "language": "python",
   "name": "python3"
  },
  "language_info": {
   "codemirror_mode": {
    "name": "ipython",
    "version": 3
   },
   "file_extension": ".py",
   "mimetype": "text/x-python",
   "name": "python",
   "nbconvert_exporter": "python",
   "pygments_lexer": "ipython3",
   "version": "3.10.0"
  }
 },
 "nbformat": 4,
 "nbformat_minor": 2
}
